{
  "nbformat": 4,
  "nbformat_minor": 0,
  "metadata": {
    "colab": {
      "name": "kimchi-model.ipynb",
      "provenance": []
    },
    "kernelspec": {
      "name": "python3",
      "display_name": "Python 3"
    },
    "language_info": {
      "name": "python"
    }
  },
  "cells": [
    {
      "cell_type": "markdown",
      "source": [
        "### Kimchi Model Notebook"
      ],
      "metadata": {
        "id": "-Rcr2_-lrsVQ"
      }
    },
    {
      "cell_type": "code",
      "execution_count": 1,
      "metadata": {
        "id": "4b4_bkr0rpfh"
      },
      "outputs": [],
      "source": [
        "import pandas as pd\n",
        "import numpy as np\n",
        "\n",
        "from sklearn.linear_model import LinearRegression\n",
        "import sklearn.metrics as metrics\n",
        "from sklearn.metrics import mean_absolute_percentage_error\n",
        "\n",
        "from sklearn.preprocessing import RobustScaler\n",
        "from sklearn.neural_network import MLPRegressor\n"
      ]
    },
    {
      "cell_type": "markdown",
      "source": [
        "### Upload Data"
      ],
      "metadata": {
        "id": "5ZbRF24psUcq"
      }
    },
    {
      "cell_type": "code",
      "source": [
        "data = pd.read_excel(\"/content/Kimchi_dataset.xlsx\")"
      ],
      "metadata": {
        "id": "yYTBdWYFsT9X"
      },
      "execution_count": 2,
      "outputs": []
    },
    {
      "cell_type": "code",
      "source": [
        "df = data.copy()"
      ],
      "metadata": {
        "id": "Lf6wbVwUwqL9"
      },
      "execution_count": 3,
      "outputs": []
    },
    {
      "cell_type": "markdown",
      "source": [
        "### Create date columns"
      ],
      "metadata": {
        "id": "XWfvKMaQsbxg"
      }
    },
    {
      "cell_type": "code",
      "source": [
        "def get_date_features(df):\n",
        "    \"\"\"\n",
        "    This function creates day and month feature from Date column.\n",
        "    \"\"\"\n",
        "    df['month'] = df['Date'].dt.month\n",
        "    df['day'] = df['Date'].dt.day\n",
        "    # df.drop(columns=['Date'], inplace = True)\n",
        "\n",
        "    return df"
      ],
      "metadata": {
        "id": "Q2U8cBUXs0_a"
      },
      "execution_count": 4,
      "outputs": []
    },
    {
      "cell_type": "code",
      "source": [
        "df = get_date_features(df)"
      ],
      "metadata": {
        "id": "t7x69MrMtr84"
      },
      "execution_count": 5,
      "outputs": []
    },
    {
      "cell_type": "markdown",
      "source": [
        "### Fill null values"
      ],
      "metadata": {
        "id": "xNFmA-N5vP89"
      }
    },
    {
      "cell_type": "code",
      "source": [
        "def fill_by_grp_mean(df, column):\n",
        "  \"\"\"\n",
        "  Fill numeric column by each region groups mean value.\n",
        "  \"\"\"\n",
        "  df[column] = df.groupby(['Region'])[column]\\\n",
        "      .transform(lambda x: x.fillna(x.mean()))\n",
        "  return df"
      ],
      "metadata": {
        "id": "1UVHllyAu_kj"
      },
      "execution_count": 6,
      "outputs": []
    },
    {
      "cell_type": "code",
      "source": [
        "df = fill_by_grp_mean(df, \"Total Volume\")\n",
        "df = fill_by_grp_mean(df, \"Price\")"
      ],
      "metadata": {
        "id": "ecpCay_PwZAL"
      },
      "execution_count": 7,
      "outputs": []
    },
    {
      "cell_type": "markdown",
      "source": [
        "### Get Dummies for Categorical Columns"
      ],
      "metadata": {
        "id": "4vmZl9mew7VP"
      }
    },
    {
      "cell_type": "code",
      "source": [
        "df = pd.get_dummies(df, prefix=['Region'])"
      ],
      "metadata": {
        "id": "Ug0xhdKjyOh0"
      },
      "execution_count": 8,
      "outputs": []
    },
    {
      "cell_type": "markdown",
      "source": [
        "### Split Data"
      ],
      "metadata": {
        "id": "mKWjChD1yrao"
      }
    },
    {
      "cell_type": "code",
      "source": [
        "\n",
        "def split_train_test(df):\n",
        "    \"\"\"\n",
        "    This function split df to train test sets.\n",
        "    Return: \n",
        "      price as a y traşn or test.\n",
        "      last 2 weeks data without price as a test period.\n",
        "      firts 10 weeks data without price as a train period.\n",
        "    \"\"\"\n",
        "    df = df.set_index('Date') \n",
        "    X_train = df[df.index <=\"2018-03-15\"].drop(columns = [\"Price\"])\n",
        "    X_test = df[df.index >=\"2018-03-15\"].drop(columns = [\"Price\"])\n",
        "\n",
        "    y_train = df[df.index <=\"2018-03-15\"][\"Price\"].copy()\n",
        "    y_test = df[df.index>=\"2018-03-15\"][\"Price\"].copy()\n",
        "\n",
        "    print(X_train.shape, X_test.shape, y_train.shape, y_test.shape)\n",
        "    \n",
        "    return X_train, X_test, y_train, y_test\n",
        "\n"
      ],
      "metadata": {
        "id": "rvYgJhrPyv2O"
      },
      "execution_count": 9,
      "outputs": []
    },
    {
      "cell_type": "code",
      "source": [
        "X_train, X_test, y_train, y_test = split_train_test(df)"
      ],
      "metadata": {
        "id": "kdoDEgMczAG4",
        "outputId": "81ed71df-c6b9-4c2c-d00b-05c54dc14dbe",
        "colab": {
          "base_uri": "https://localhost:8080/"
        }
      },
      "execution_count": 10,
      "outputs": [
        {
          "output_type": "stream",
          "name": "stdout",
          "text": [
            "(540, 48) (108, 48) (540,) (108,)\n"
          ]
        }
      ]
    },
    {
      "cell_type": "markdown",
      "source": [
        "### Scale Categorical Columns"
      ],
      "metadata": {
        "id": "dxmaMfW_yinG"
      }
    },
    {
      "cell_type": "code",
      "source": [
        "# Define scaler.\n",
        "scaler = RobustScaler()\n",
        "\n",
        "# Fit train and transform on test. we dont want data leakage.\n",
        "X_train_scaled = scaler.fit_transform(X_train)\n",
        "X_test_scaled = scaler.transform(X_test)\n"
      ],
      "metadata": {
        "id": "ztp_gEBC36S1"
      },
      "execution_count": 11,
      "outputs": []
    },
    {
      "cell_type": "markdown",
      "source": [
        "### Run Model"
      ],
      "metadata": {
        "id": "ctkyk4256B4_"
      }
    },
    {
      "cell_type": "code",
      "source": [
        "# Define regressor.\n",
        "\n",
        "reg = LinearRegression()\n",
        "reg.fit(X_train_scaled, y_train)"
      ],
      "metadata": {
        "id": "h4S09lQQ6FPv",
        "outputId": "2f25b087-c702-4463-9002-7c843739971c",
        "colab": {
          "base_uri": "https://localhost:8080/"
        }
      },
      "execution_count": 12,
      "outputs": [
        {
          "output_type": "execute_result",
          "data": {
            "text/plain": [
              "LinearRegression()"
            ]
          },
          "metadata": {},
          "execution_count": 12
        }
      ]
    },
    {
      "cell_type": "markdown",
      "source": [
        "### Make Prediction"
      ],
      "metadata": {
        "id": "vkzJqjMN6oK3"
      }
    },
    {
      "cell_type": "code",
      "source": [
        "y_pred = reg.predict(X_test_scaled)\n",
        "print(\"The first five prediction {}\".format(y_pred[:5]))\n",
        "print(\"The real first five labels {}\".format(y_test[:5]))\n",
        "\n",
        "mape = mean_absolute_percentage_error(y_test, y_pred)\n",
        "print(\"MAPE w/ regressor {}\".format(mape))"
      ],
      "metadata": {
        "id": "EcqdXUwi6SL8",
        "outputId": "55775fd4-b0a0-4357-df42-c86aeb28de5f",
        "colab": {
          "base_uri": "https://localhost:8080/"
        }
      },
      "execution_count": 13,
      "outputs": [
        {
          "output_type": "stream",
          "name": "stdout",
          "text": [
            "The first five prediction [-26.3347168  -18.17602539 -26.17871094 -18.01293945 -26.68078613]\n",
            "The real first five labels Date\n",
            "2018-03-25    1.71\n",
            "2018-03-18    1.66\n",
            "2018-03-25    1.56\n",
            "2018-03-18    1.48\n",
            "2018-03-25    1.33\n",
            "Name: Price, dtype: float64\n",
            "MAPE w/ regressor 17.673160428729425\n"
          ]
        }
      ]
    },
    {
      "cell_type": "markdown",
      "source": [
        "### Try MLP Regressor"
      ],
      "metadata": {
        "id": "-cwKjrVv7X67"
      }
    },
    {
      "cell_type": "code",
      "source": [
        "mlp = MLPRegressor(random_state=1, max_iter=500).fit(X_train, y_train)"
      ],
      "metadata": {
        "id": "E3reTu-u68Xj"
      },
      "execution_count": 14,
      "outputs": []
    },
    {
      "cell_type": "code",
      "source": [
        "mlp_pred = mlp.predict(X_test_scaled)"
      ],
      "metadata": {
        "id": "t5Wv04Wu7gfx",
        "outputId": "42808f43-0b9c-4674-9b7b-e135364525d2",
        "colab": {
          "base_uri": "https://localhost:8080/"
        }
      },
      "execution_count": 15,
      "outputs": [
        {
          "output_type": "stream",
          "name": "stderr",
          "text": [
            "/usr/local/lib/python3.7/dist-packages/sklearn/base.py:451: UserWarning: X does not have valid feature names, but MLPRegressor was fitted with feature names\n",
            "  \"X does not have valid feature names, but\"\n"
          ]
        }
      ]
    },
    {
      "cell_type": "code",
      "source": [
        "mape = mean_absolute_percentage_error(y_test, mlp_pred)\n",
        "print(\"MAPE with mlp regressor {}\".format(mape))"
      ],
      "metadata": {
        "id": "NkTb5K057myu",
        "outputId": "428ace77-c6cc-409d-bcc2-c49e9fb19d88",
        "colab": {
          "base_uri": "https://localhost:8080/"
        }
      },
      "execution_count": 16,
      "outputs": [
        {
          "output_type": "stream",
          "name": "stdout",
          "text": [
            "MAPE with mlp regressor 0.7721782797777615\n"
          ]
        }
      ]
    },
    {
      "cell_type": "code",
      "source": [
        ""
      ],
      "metadata": {
        "id": "Vi3sPVg67twX"
      },
      "execution_count": 16,
      "outputs": []
    }
  ]
}